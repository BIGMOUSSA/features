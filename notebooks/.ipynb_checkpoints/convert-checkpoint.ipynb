{
 "cells": [
  {
   "cell_type": "code",
   "execution_count": 1,
   "id": "initial_id",
   "metadata": {},
   "outputs": [],
   "source": [
    "import pandas as pd"
   ]
  },
  {
   "cell_type": "code",
   "execution_count": 2,
   "id": "99b84f7a-2e0c-4d11-b9ac-82d9d1b81abd",
   "metadata": {},
   "outputs": [],
   "source": [
    "df = pd.read_csv(\"voix_sms/voix_sms_onnet.csv\", sep=';')"
   ]
  },
  {
   "cell_type": "code",
   "execution_count": 3,
   "id": "befde4d0-9a51-4230-8437-193afa937daa",
   "metadata": {},
   "outputs": [
    {
     "data": {
      "text/html": [
       "<div>\n",
       "<style scoped>\n",
       "    .dataframe tbody tr th:only-of-type {\n",
       "        vertical-align: middle;\n",
       "    }\n",
       "\n",
       "    .dataframe tbody tr th {\n",
       "        vertical-align: top;\n",
       "    }\n",
       "\n",
       "    .dataframe thead th {\n",
       "        text-align: right;\n",
       "    }\n",
       "</style>\n",
       "<table border=\"1\" class=\"dataframe\">\n",
       "  <thead>\n",
       "    <tr style=\"text-align: right;\">\n",
       "      <th></th>\n",
       "      <th>traffic_type</th>\n",
       "      <th>traffic_direction</th>\n",
       "      <th>msisdn</th>\n",
       "      <th>call_date</th>\n",
       "      <th>call_time</th>\n",
       "      <th>duree</th>\n",
       "      <th>ms_location</th>\n",
       "    </tr>\n",
       "  </thead>\n",
       "  <tbody>\n",
       "    <tr>\n",
       "      <th>0</th>\n",
       "      <td>VOIX</td>\n",
       "      <td>ENTRANT</td>\n",
       "      <td>5a79f151effb4deb551e6ed0db0a2e5ec3db589bceef34...</td>\n",
       "      <td>20210720</td>\n",
       "      <td>150303</td>\n",
       "      <td>59.0</td>\n",
       "      <td>608-01-00408-26806</td>\n",
       "    </tr>\n",
       "    <tr>\n",
       "      <th>1</th>\n",
       "      <td>VOIX</td>\n",
       "      <td>SORTANT</td>\n",
       "      <td>ed8e47c72e45e9fbcc8308d7e4653b753ad698bf51a6e7...</td>\n",
       "      <td>20210720</td>\n",
       "      <td>202043</td>\n",
       "      <td>81.0</td>\n",
       "      <td>608-01-00411-26767</td>\n",
       "    </tr>\n",
       "    <tr>\n",
       "      <th>2</th>\n",
       "      <td>SMS</td>\n",
       "      <td>ENTRANT</td>\n",
       "      <td>e7823353d1b14c6f788bb3e7f4856edbfa9b23be8ec590...</td>\n",
       "      <td>20210720</td>\n",
       "      <td>231508</td>\n",
       "      <td>1.0</td>\n",
       "      <td>608-01-09040-30331</td>\n",
       "    </tr>\n",
       "    <tr>\n",
       "      <th>3</th>\n",
       "      <td>VOIX</td>\n",
       "      <td>ENTRANT</td>\n",
       "      <td>6d26399539c37caa7be3aa7fa75f129cff103dbfa67dde...</td>\n",
       "      <td>20210720</td>\n",
       "      <td>235424</td>\n",
       "      <td>29.0</td>\n",
       "      <td>608-01-00408-25284</td>\n",
       "    </tr>\n",
       "    <tr>\n",
       "      <th>4</th>\n",
       "      <td>VOIX</td>\n",
       "      <td>SORTANT</td>\n",
       "      <td>efee3452e8ca8ac1e3ae534f8fb4938355103bdbce72e1...</td>\n",
       "      <td>20210720</td>\n",
       "      <td>213510</td>\n",
       "      <td>2.0</td>\n",
       "      <td>608-01-09000-00417</td>\n",
       "    </tr>\n",
       "  </tbody>\n",
       "</table>\n",
       "</div>"
      ],
      "text/plain": [
       "  traffic_type traffic_direction  \\\n",
       "0         VOIX           ENTRANT   \n",
       "1         VOIX           SORTANT   \n",
       "2          SMS           ENTRANT   \n",
       "3         VOIX           ENTRANT   \n",
       "4         VOIX           SORTANT   \n",
       "\n",
       "                                              msisdn  call_date  call_time  \\\n",
       "0  5a79f151effb4deb551e6ed0db0a2e5ec3db589bceef34...   20210720     150303   \n",
       "1  ed8e47c72e45e9fbcc8308d7e4653b753ad698bf51a6e7...   20210720     202043   \n",
       "2  e7823353d1b14c6f788bb3e7f4856edbfa9b23be8ec590...   20210720     231508   \n",
       "3  6d26399539c37caa7be3aa7fa75f129cff103dbfa67dde...   20210720     235424   \n",
       "4  efee3452e8ca8ac1e3ae534f8fb4938355103bdbce72e1...   20210720     213510   \n",
       "\n",
       "   duree         ms_location  \n",
       "0   59.0  608-01-00408-26806  \n",
       "1   81.0  608-01-00411-26767  \n",
       "2    1.0  608-01-09040-30331  \n",
       "3   29.0  608-01-00408-25284  \n",
       "4    2.0  608-01-09000-00417  "
      ]
     },
     "execution_count": 3,
     "metadata": {},
     "output_type": "execute_result"
    }
   ],
   "source": [
    "df.head()"
   ]
  },
  {
   "cell_type": "code",
   "execution_count": 4,
   "id": "51ad5814-a977-4f75-994e-e2cce3607c20",
   "metadata": {},
   "outputs": [],
   "source": [
    "df.rename(columns={'duree':'duration', 'msisdn':'caller_id', 'traffic_type': 'txn_type', 'ms_location': 'caller_antenna'}, inplace=True)"
   ]
  },
  {
   "cell_type": "code",
   "execution_count": 5,
   "id": "c54f0a92-68ff-458d-9d7e-416fe9603d86",
   "metadata": {
    "scrolled": true
   },
   "outputs": [
    {
     "data": {
      "text/html": [
       "<div>\n",
       "<style scoped>\n",
       "    .dataframe tbody tr th:only-of-type {\n",
       "        vertical-align: middle;\n",
       "    }\n",
       "\n",
       "    .dataframe tbody tr th {\n",
       "        vertical-align: top;\n",
       "    }\n",
       "\n",
       "    .dataframe thead th {\n",
       "        text-align: right;\n",
       "    }\n",
       "</style>\n",
       "<table border=\"1\" class=\"dataframe\">\n",
       "  <thead>\n",
       "    <tr style=\"text-align: right;\">\n",
       "      <th></th>\n",
       "      <th>txn_type</th>\n",
       "      <th>traffic_direction</th>\n",
       "      <th>caller_id</th>\n",
       "      <th>call_date</th>\n",
       "      <th>call_time</th>\n",
       "      <th>duration</th>\n",
       "      <th>caller_antenna</th>\n",
       "    </tr>\n",
       "  </thead>\n",
       "  <tbody>\n",
       "    <tr>\n",
       "      <th>0</th>\n",
       "      <td>VOIX</td>\n",
       "      <td>ENTRANT</td>\n",
       "      <td>5a79f151effb4deb551e6ed0db0a2e5ec3db589bceef34...</td>\n",
       "      <td>20210720</td>\n",
       "      <td>150303</td>\n",
       "      <td>59.0</td>\n",
       "      <td>608-01-00408-26806</td>\n",
       "    </tr>\n",
       "    <tr>\n",
       "      <th>1</th>\n",
       "      <td>VOIX</td>\n",
       "      <td>SORTANT</td>\n",
       "      <td>ed8e47c72e45e9fbcc8308d7e4653b753ad698bf51a6e7...</td>\n",
       "      <td>20210720</td>\n",
       "      <td>202043</td>\n",
       "      <td>81.0</td>\n",
       "      <td>608-01-00411-26767</td>\n",
       "    </tr>\n",
       "    <tr>\n",
       "      <th>2</th>\n",
       "      <td>SMS</td>\n",
       "      <td>ENTRANT</td>\n",
       "      <td>e7823353d1b14c6f788bb3e7f4856edbfa9b23be8ec590...</td>\n",
       "      <td>20210720</td>\n",
       "      <td>231508</td>\n",
       "      <td>1.0</td>\n",
       "      <td>608-01-09040-30331</td>\n",
       "    </tr>\n",
       "    <tr>\n",
       "      <th>3</th>\n",
       "      <td>VOIX</td>\n",
       "      <td>ENTRANT</td>\n",
       "      <td>6d26399539c37caa7be3aa7fa75f129cff103dbfa67dde...</td>\n",
       "      <td>20210720</td>\n",
       "      <td>235424</td>\n",
       "      <td>29.0</td>\n",
       "      <td>608-01-00408-25284</td>\n",
       "    </tr>\n",
       "    <tr>\n",
       "      <th>4</th>\n",
       "      <td>VOIX</td>\n",
       "      <td>SORTANT</td>\n",
       "      <td>efee3452e8ca8ac1e3ae534f8fb4938355103bdbce72e1...</td>\n",
       "      <td>20210720</td>\n",
       "      <td>213510</td>\n",
       "      <td>2.0</td>\n",
       "      <td>608-01-09000-00417</td>\n",
       "    </tr>\n",
       "  </tbody>\n",
       "</table>\n",
       "</div>"
      ],
      "text/plain": [
       "  txn_type traffic_direction  \\\n",
       "0     VOIX           ENTRANT   \n",
       "1     VOIX           SORTANT   \n",
       "2      SMS           ENTRANT   \n",
       "3     VOIX           ENTRANT   \n",
       "4     VOIX           SORTANT   \n",
       "\n",
       "                                           caller_id  call_date  call_time  \\\n",
       "0  5a79f151effb4deb551e6ed0db0a2e5ec3db589bceef34...   20210720     150303   \n",
       "1  ed8e47c72e45e9fbcc8308d7e4653b753ad698bf51a6e7...   20210720     202043   \n",
       "2  e7823353d1b14c6f788bb3e7f4856edbfa9b23be8ec590...   20210720     231508   \n",
       "3  6d26399539c37caa7be3aa7fa75f129cff103dbfa67dde...   20210720     235424   \n",
       "4  efee3452e8ca8ac1e3ae534f8fb4938355103bdbce72e1...   20210720     213510   \n",
       "\n",
       "   duration      caller_antenna  \n",
       "0      59.0  608-01-00408-26806  \n",
       "1      81.0  608-01-00411-26767  \n",
       "2       1.0  608-01-09040-30331  \n",
       "3      29.0  608-01-00408-25284  \n",
       "4       2.0  608-01-09000-00417  "
      ]
     },
     "execution_count": 5,
     "metadata": {},
     "output_type": "execute_result"
    }
   ],
   "source": [
    "df.head()"
   ]
  },
  {
   "cell_type": "code",
   "execution_count": 6,
   "id": "0fc0e810-4d76-4d9a-8df5-d1eb039c3d90",
   "metadata": {},
   "outputs": [],
   "source": [
    "df['international'] = 'domestic'\n",
    "df['recipient_id'] = ''\n",
    "df['timestamp'] = df['call_date'].astype(str) + df['call_time'].astype(str)"
   ]
  },
  {
   "cell_type": "code",
   "execution_count": 7,
   "id": "ef263971-4c95-4447-9922-638f4ab1eeac",
   "metadata": {},
   "outputs": [],
   "source": [
    "df['txn_type'].replace({'VOIX':'call', 'SMS':'text'}, inplace=True)"
   ]
  },
  {
   "cell_type": "code",
   "execution_count": 8,
   "id": "139a10e0-d896-4b16-93e4-6a6c812ff527",
   "metadata": {},
   "outputs": [],
   "source": [
    "df.dropna(subset=[\"txn_type\"], inplace=True)"
   ]
  },
  {
   "cell_type": "code",
   "execution_count": 9,
   "id": "b7ee7ef7-d44f-4441-be65-1687a70e1147",
   "metadata": {},
   "outputs": [],
   "source": [
    "df.to_csv('voix_sms/voix_sms_onnet_cider.csv', sep=\";\")"
   ]
  },
  {
   "cell_type": "code",
   "execution_count": null,
   "id": "37d34430-699e-4699-813c-3a46df963429",
   "metadata": {},
   "outputs": [],
   "source": []
  }
 ],
 "metadata": {
  "kernelspec": {
   "display_name": "Python 3 (ipykernel)",
   "language": "python",
   "name": "python3"
  },
  "language_info": {
   "codemirror_mode": {
    "name": "ipython",
    "version": 3
   },
   "file_extension": ".py",
   "mimetype": "text/x-python",
   "name": "python",
   "nbconvert_exporter": "python",
   "pygments_lexer": "ipython3",
   "version": "3.9.19"
  }
 },
 "nbformat": 4,
 "nbformat_minor": 5
}
